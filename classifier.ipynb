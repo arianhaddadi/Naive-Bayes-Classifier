{
  "nbformat": 4,
  "nbformat_minor": 0,
  "metadata": {
    "colab": {
      "name": "Untitled0.ipynb",
      "provenance": [],
      "collapsed_sections": []
    },
    "kernelspec": {
      "name": "python3",
      "display_name": "Python 3"
    },
    "language_info": {
      "name": "python"
    }
  },
  "cells": [
    {
      "cell_type": "code",
      "metadata": {
        "id": "d2WrNiB1Idex"
      },
      "source": [
        "import pandas\n",
        "import random\n",
        "from sklearn.model_selection import train_test_split"
      ],
      "execution_count": null,
      "outputs": []
    },
    {
      "cell_type": "markdown",
      "metadata": {
        "id": "t1HxxOgXjKd5"
      },
      "source": [
        "# Splitting Train Set, Test Set"
      ]
    },
    {
      "cell_type": "code",
      "metadata": {
        "id": "KCzXmGdEhw2E"
      },
      "source": [
        "df = pandas.read_csv(\"data/train_test.csv\")\n",
        "\n",
        "train_data, test_data = train_test_split(df, test_size=0.2)\n",
        "train_data_labels, train_data_texts = list(train_data[\"label\"]), list(train_data[\"text\"])\n",
        "test_data_labels, test_data_texts = list(test_data[\"label\"]), list(test_data[\"text\"])"
      ],
      "execution_count": null,
      "outputs": []
    },
    {
      "cell_type": "markdown",
      "metadata": {
        "id": "4h9rO_uwZINw"
      },
      "source": [
        "# Gathering Information About Poets"
      ]
    },
    {
      "cell_type": "code",
      "metadata": {
        "id": "RmYyLy8eIzKr"
      },
      "source": [
        "poets_statistics = {\"hafez\": 0, \"saadi\": 0}\n",
        "for i in range(len(train_data_labels)):\n",
        "    poets_statistics[train_data_labels[i]] += 1\n",
        "poets_probability = {\"hafez\": poets_statistics[\"hafez\"]/len(train_data_labels), \"saadi\": poets_statistics[\"saadi\"]/len(train_data_labels)}\n",
        "\n",
        "words = dict()\n",
        "num_of_words = {\"hafez\": 0, \"saadi\": 0}\n",
        "\n",
        "for i in range(len(train_data_texts)):\n",
        "    sentence = train_data_texts[i].split()\n",
        "    for j in range(len(sentence)):\n",
        "        num_of_words[train_data_labels[i]] += 1\n",
        "        if sentence[j] not in words:\n",
        "            words[sentence[j]] = {\"hafez\": 0, \"saadi\": 0}\n",
        "        words[sentence[j]][train_data_labels[i]] += 1"
      ],
      "execution_count": null,
      "outputs": []
    },
    {
      "cell_type": "markdown",
      "metadata": {
        "id": "i4HQiAasxOLa"
      },
      "source": [
        "# Functions for Calculating Probability, Accuracy, Precision, and Recall"
      ]
    },
    {
      "cell_type": "code",
      "metadata": {
        "id": "LpRqRdWNxIXM"
      },
      "source": [
        "def calcProbability(poet, sentence):\n",
        "    sentence = sentence.split()\n",
        "    product = 1\n",
        "    for i in range(len(sentence)):\n",
        "        if sentence[i] in words: \n",
        "            product *= (words[sentence[i]][poet]/num_of_words[poet])\n",
        "    return product * poets_probability[poet]\n",
        "\n",
        "def calcAccuracy(predictions, test_data_labels):\n",
        "    correct_detected = 0\n",
        "    for i in range(len(predictions)):\n",
        "        if predictions[i] == test_data_labels[i]:\n",
        "            correct_detected += 1\n",
        "    return correct_detected/len(test_data_labels)*100\n",
        "\n",
        "def calcPrecision(predictions, test_data_labels):\n",
        "    correct_hafez, total_hafez = 0, 0\n",
        "    for i in range(len(predictions)):\n",
        "        if predictions[i] == \"hafez\":\n",
        "            total_hafez += 1\n",
        "            if test_data_labels[i] == 'hafez':\n",
        "                correct_hafez += 1\n",
        "    return correct_hafez/total_hafez*100\n",
        "\n",
        "def calcRecall(predictions, test_data_labels):\n",
        "    correct_hafez, total_hafez = 0, 0\n",
        "    for i in range(len(predictions)):\n",
        "        if test_data_labels[i] == \"hafez\":\n",
        "            total_hafez += 1\n",
        "            if predictions[i] == 'hafez':\n",
        "                correct_hafez += 1\n",
        "    return correct_hafez/total_hafez*100\n"
      ],
      "execution_count": null,
      "outputs": []
    },
    {
      "cell_type": "markdown",
      "metadata": {
        "id": "3hVOWeN8jABK"
      },
      "source": [
        "# Predicting and Calculating Accuracy, Precision, and Recall\n",
        "\n"
      ]
    },
    {
      "cell_type": "code",
      "metadata": {
        "colab": {
          "base_uri": "https://localhost:8080/"
        },
        "id": "yZdqywe7iFiv",
        "outputId": "a638477a-af6b-4eba-c9c3-1b521669095e"
      },
      "source": [
        "predictions = list()\n",
        "for i in range(len(test_data_texts)):\n",
        "    if calcProbability(\"hafez\", test_data_texts[i]) >= calcProbability(\"saadi\", test_data_texts[i]):\n",
        "        predictions.append(\"hafez\")\n",
        "    else:\n",
        "        predictions.append(\"saadi\")\n",
        "\n",
        "\n",
        "print(\"Accuracy: \", calcAccuracy(predictions, test_data_labels))\n",
        "print(\"Precision: \", calcPrecision(predictions, test_data_labels))\n",
        "print(\"Recall: \", calcRecall(predictions, test_data_labels))"
      ],
      "execution_count": null,
      "outputs": [
        {
          "output_type": "stream",
          "name": "stdout",
          "text": [
            "Accuracy:  77.38152225945429\n",
            "Precision:  71.95985832349469\n",
            "Recall:  72.17288336293664\n"
          ]
        }
      ]
    },
    {
      "cell_type": "markdown",
      "metadata": {
        "id": "Rg6VoS41xcYe"
      },
      "source": [
        "# Function for Calculating Probability for Laplace Smoothing Technique"
      ]
    },
    {
      "cell_type": "code",
      "metadata": {
        "id": "6FTWQA65xY1Y"
      },
      "source": [
        "def calcLaplaceProbability(poet, sentence):\n",
        "    sentence = sentence.split()\n",
        "    product = 1\n",
        "    for i in range(len(sentence)):\n",
        "        if sentence[i] in words: \n",
        "            product *= ((words[sentence[i]][poet]+1)/(num_of_words[poet]+len(words.keys())))\n",
        "    return product * poets_probability[poet]"
      ],
      "execution_count": null,
      "outputs": []
    },
    {
      "cell_type": "markdown",
      "metadata": {
        "id": "vzzPT_Rqi7JU"
      },
      "source": [
        "# Applying Laplace Smoothing"
      ]
    },
    {
      "cell_type": "code",
      "metadata": {
        "colab": {
          "base_uri": "https://localhost:8080/"
        },
        "id": "wQe99emciTCm",
        "outputId": "199fadc7-6ee3-42bf-dbea-9641c194034a"
      },
      "source": [
        "laplace_predictions = list()\n",
        "for i in range(len(test_data_texts)):\n",
        "    if calcLaplaceProbability(\"hafez\", test_data_texts[i]) >= calcLaplaceProbability(\"saadi\", test_data_texts[i]):\n",
        "        laplace_predictions.append(\"hafez\")\n",
        "    else:\n",
        "        laplace_predictions.append(\"saadi\")\n",
        "\n",
        "print(\"Laplace Accuracy: \", calcAccuracy(laplace_predictions, test_data_labels))\n",
        "print(\"Laplace Precision: \", calcPrecision(laplace_predictions, test_data_labels))\n",
        "print(\"Laplace Recall: \", calcRecall(laplace_predictions, test_data_labels))"
      ],
      "execution_count": null,
      "outputs": [
        {
          "output_type": "stream",
          "name": "stdout",
          "text": [
            "Laplace Accuracy:  80.18190521780755\n",
            "Laplace Precision:  79.58762886597938\n",
            "Laplace Recall:  68.56127886323267\n"
          ]
        }
      ]
    },
    {
      "cell_type": "markdown",
      "metadata": {
        "id": "dfDugS8hi4Dc"
      },
      "source": [
        "# Doing Predictions on Second Dataset (Evaluate Dataset in data Directory)"
      ]
    },
    {
      "cell_type": "code",
      "metadata": {
        "id": "QNOYp0FjiaBX"
      },
      "source": [
        "evaluate = pandas.read_csv(\"data/evaluate.csv\")\n",
        "evaluate_predictions = list()\n",
        "\n",
        "evaluate_id_list = list(evaluate[\"id\"])\n",
        "evaluate_text_list = list(evaluate[\"text\"])\n",
        "\n",
        "\n",
        "\n",
        "for i in range(len(evaluate_text_list)):\n",
        "    if calcLaplaceProbability(\"hafez\", evaluate_text_list[i]) >= calcLaplaceProbability(\"saadi\", evaluate_text_list[i]):\n",
        "        evaluate_predictions.append(\"hafez\")\n",
        "    else:\n",
        "        evaluate_predictions.append(\"saadi\")\n",
        "\n",
        "pandas.DataFrame({\"id\":evaluate_id_list, \"label\":evaluate_predictions}).to_csv(\"data/output.csv\", index=False)"
      ],
      "execution_count": null,
      "outputs": []
    }
  ]
}